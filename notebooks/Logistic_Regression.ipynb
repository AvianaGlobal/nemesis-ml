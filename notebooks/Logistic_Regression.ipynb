{
 "cells": [
  {
   "cell_type": "code",
   "execution_count": 72,
   "metadata": {},
   "outputs": [],
   "source": [
    "import pandas as pd\n",
    "import numpy as np\n",
    "from sklearn.linear_model import LogisticRegression\n",
    "import seaborn as sns\n",
    "import matplotlib.pyplot as plt"
   ]
  },
  {
   "cell_type": "code",
   "execution_count": 73,
   "metadata": {},
   "outputs": [],
   "source": [
    "d1 = pd.read_csv('USC_Discrete_Target_Dataset.csv')"
   ]
  },
  {
   "cell_type": "code",
   "execution_count": 74,
   "metadata": {},
   "outputs": [
    {
     "data": {
      "text/plain": [
       "Index(['BUS__CODE', 'SCORE', 'A_GrossSales', 'A_ExtaxPurch', 'A_Resales',\n",
       "       'A_FoodCosts', 'A_LaborCosts', 'A_IOC', 'A_BadDebts', 'A_TOPP',\n",
       "       'A_SalesFinal', 'OwnCode', 'Status', 'Y_AuditResult'],\n",
       "      dtype='object')"
      ]
     },
     "execution_count": 74,
     "metadata": {},
     "output_type": "execute_result"
    }
   ],
   "source": [
    "# Column names \n",
    "d1.columns"
   ]
  },
  {
   "cell_type": "code",
   "execution_count": 90,
   "metadata": {},
   "outputs": [
    {
     "data": {
      "text/plain": [
       "(14112, 14)"
      ]
     },
     "execution_count": 90,
     "metadata": {},
     "output_type": "execute_result"
    }
   ],
   "source": [
    "# Number of Rows and Number of Columns \n",
    "d1.shape"
   ]
  },
  {
   "cell_type": "code",
   "execution_count": 75,
   "metadata": {},
   "outputs": [
    {
     "data": {
      "text/plain": [
       "BUS__CODE          int64\n",
       "SCORE            float64\n",
       "A_GrossSales     float64\n",
       "A_ExtaxPurch     float64\n",
       "A_Resales        float64\n",
       "A_FoodCosts      float64\n",
       "A_LaborCosts     float64\n",
       "A_IOC            float64\n",
       "A_BadDebts       float64\n",
       "A_TOPP           float64\n",
       "A_SalesFinal     float64\n",
       "OwnCode            int64\n",
       "Status             int64\n",
       "Y_AuditResult     object\n",
       "dtype: object"
      ]
     },
     "execution_count": 75,
     "metadata": {},
     "output_type": "execute_result"
    }
   ],
   "source": [
    "# Columns datatype\n",
    "d1.dtypes"
   ]
  },
  {
   "cell_type": "code",
   "execution_count": 76,
   "metadata": {},
   "outputs": [
    {
     "data": {
      "text/html": [
       "<div>\n",
       "<style scoped>\n",
       "    .dataframe tbody tr th:only-of-type {\n",
       "        vertical-align: middle;\n",
       "    }\n",
       "\n",
       "    .dataframe tbody tr th {\n",
       "        vertical-align: top;\n",
       "    }\n",
       "\n",
       "    .dataframe thead th {\n",
       "        text-align: right;\n",
       "    }\n",
       "</style>\n",
       "<table border=\"1\" class=\"dataframe\">\n",
       "  <thead>\n",
       "    <tr style=\"text-align: right;\">\n",
       "      <th></th>\n",
       "      <th>BUS__CODE</th>\n",
       "      <th>SCORE</th>\n",
       "      <th>A_GrossSales</th>\n",
       "      <th>A_ExtaxPurch</th>\n",
       "      <th>A_Resales</th>\n",
       "      <th>A_FoodCosts</th>\n",
       "      <th>A_LaborCosts</th>\n",
       "      <th>A_IOC</th>\n",
       "      <th>A_BadDebts</th>\n",
       "      <th>A_TOPP</th>\n",
       "      <th>A_SalesFinal</th>\n",
       "      <th>OwnCode</th>\n",
       "      <th>Status</th>\n",
       "      <th>Y_AuditResult</th>\n",
       "    </tr>\n",
       "  </thead>\n",
       "  <tbody>\n",
       "    <tr>\n",
       "      <th>0</th>\n",
       "      <td>1</td>\n",
       "      <td>0.190060</td>\n",
       "      <td>0.061679</td>\n",
       "      <td>0.066138</td>\n",
       "      <td>0.056952</td>\n",
       "      <td>0.056386</td>\n",
       "      <td>0.040065</td>\n",
       "      <td>0.049699</td>\n",
       "      <td>0.032031</td>\n",
       "      <td>0.022732</td>\n",
       "      <td>0.046738</td>\n",
       "      <td>0</td>\n",
       "      <td>1</td>\n",
       "      <td>Not_Success</td>\n",
       "    </tr>\n",
       "    <tr>\n",
       "      <th>1</th>\n",
       "      <td>5</td>\n",
       "      <td>0.190060</td>\n",
       "      <td>0.350000</td>\n",
       "      <td>0.297216</td>\n",
       "      <td>0.234331</td>\n",
       "      <td>0.292740</td>\n",
       "      <td>0.252073</td>\n",
       "      <td>0.000000</td>\n",
       "      <td>0.302926</td>\n",
       "      <td>0.304454</td>\n",
       "      <td>0.288876</td>\n",
       "      <td>0</td>\n",
       "      <td>1</td>\n",
       "      <td>Not_Success</td>\n",
       "    </tr>\n",
       "    <tr>\n",
       "      <th>2</th>\n",
       "      <td>5</td>\n",
       "      <td>0.190060</td>\n",
       "      <td>0.268717</td>\n",
       "      <td>0.312500</td>\n",
       "      <td>0.345161</td>\n",
       "      <td>0.292740</td>\n",
       "      <td>0.315652</td>\n",
       "      <td>0.258993</td>\n",
       "      <td>0.302926</td>\n",
       "      <td>0.324324</td>\n",
       "      <td>0.288876</td>\n",
       "      <td>0</td>\n",
       "      <td>1</td>\n",
       "      <td>Success</td>\n",
       "    </tr>\n",
       "    <tr>\n",
       "      <th>3</th>\n",
       "      <td>5</td>\n",
       "      <td>0.190060</td>\n",
       "      <td>0.267081</td>\n",
       "      <td>0.170758</td>\n",
       "      <td>0.345161</td>\n",
       "      <td>0.292740</td>\n",
       "      <td>0.315652</td>\n",
       "      <td>0.316640</td>\n",
       "      <td>0.302926</td>\n",
       "      <td>0.304454</td>\n",
       "      <td>0.288876</td>\n",
       "      <td>0</td>\n",
       "      <td>1</td>\n",
       "      <td>Not_Success</td>\n",
       "    </tr>\n",
       "    <tr>\n",
       "      <th>4</th>\n",
       "      <td>6</td>\n",
       "      <td>0.220606</td>\n",
       "      <td>0.421769</td>\n",
       "      <td>0.312500</td>\n",
       "      <td>0.909091</td>\n",
       "      <td>0.292740</td>\n",
       "      <td>0.315652</td>\n",
       "      <td>0.316640</td>\n",
       "      <td>0.302926</td>\n",
       "      <td>0.304454</td>\n",
       "      <td>0.288876</td>\n",
       "      <td>1</td>\n",
       "      <td>1</td>\n",
       "      <td>Success</td>\n",
       "    </tr>\n",
       "  </tbody>\n",
       "</table>\n",
       "</div>"
      ],
      "text/plain": [
       "   BUS__CODE     SCORE  A_GrossSales  A_ExtaxPurch  A_Resales  A_FoodCosts  \\\n",
       "0          1  0.190060      0.061679      0.066138   0.056952     0.056386   \n",
       "1          5  0.190060      0.350000      0.297216   0.234331     0.292740   \n",
       "2          5  0.190060      0.268717      0.312500   0.345161     0.292740   \n",
       "3          5  0.190060      0.267081      0.170758   0.345161     0.292740   \n",
       "4          6  0.220606      0.421769      0.312500   0.909091     0.292740   \n",
       "\n",
       "   A_LaborCosts     A_IOC  A_BadDebts    A_TOPP  A_SalesFinal  OwnCode  \\\n",
       "0      0.040065  0.049699    0.032031  0.022732      0.046738        0   \n",
       "1      0.252073  0.000000    0.302926  0.304454      0.288876        0   \n",
       "2      0.315652  0.258993    0.302926  0.324324      0.288876        0   \n",
       "3      0.315652  0.316640    0.302926  0.304454      0.288876        0   \n",
       "4      0.315652  0.316640    0.302926  0.304454      0.288876        1   \n",
       "\n",
       "   Status Y_AuditResult  \n",
       "0       1   Not_Success  \n",
       "1       1   Not_Success  \n",
       "2       1       Success  \n",
       "3       1   Not_Success  \n",
       "4       1       Success  "
      ]
     },
     "execution_count": 76,
     "metadata": {},
     "output_type": "execute_result"
    }
   ],
   "source": [
    "d1.head(5)"
   ]
  },
  {
   "cell_type": "code",
   "execution_count": 77,
   "metadata": {},
   "outputs": [],
   "source": [
    "# Dictionary to convert target to numeric \n",
    "dict1 = {'Not_Success':1, 'Success': 0}"
   ]
  },
  {
   "cell_type": "code",
   "execution_count": 78,
   "metadata": {},
   "outputs": [],
   "source": [
    "# Convert target value to numeric \n",
    "d1['Y_AuditResult'] = d1['Y_AuditResult'].map(dict1)"
   ]
  },
  {
   "cell_type": "code",
   "execution_count": 79,
   "metadata": {},
   "outputs": [
    {
     "data": {
      "text/html": [
       "<div>\n",
       "<style scoped>\n",
       "    .dataframe tbody tr th:only-of-type {\n",
       "        vertical-align: middle;\n",
       "    }\n",
       "\n",
       "    .dataframe tbody tr th {\n",
       "        vertical-align: top;\n",
       "    }\n",
       "\n",
       "    .dataframe thead th {\n",
       "        text-align: right;\n",
       "    }\n",
       "</style>\n",
       "<table border=\"1\" class=\"dataframe\">\n",
       "  <thead>\n",
       "    <tr style=\"text-align: right;\">\n",
       "      <th></th>\n",
       "      <th>BUS__CODE</th>\n",
       "      <th>SCORE</th>\n",
       "      <th>A_GrossSales</th>\n",
       "      <th>A_ExtaxPurch</th>\n",
       "      <th>A_Resales</th>\n",
       "      <th>A_FoodCosts</th>\n",
       "      <th>A_LaborCosts</th>\n",
       "      <th>A_IOC</th>\n",
       "      <th>A_BadDebts</th>\n",
       "      <th>A_TOPP</th>\n",
       "      <th>A_SalesFinal</th>\n",
       "      <th>OwnCode</th>\n",
       "      <th>Status</th>\n",
       "      <th>Y_AuditResult</th>\n",
       "    </tr>\n",
       "  </thead>\n",
       "  <tbody>\n",
       "    <tr>\n",
       "      <th>0</th>\n",
       "      <td>1</td>\n",
       "      <td>0.190060</td>\n",
       "      <td>0.061679</td>\n",
       "      <td>0.066138</td>\n",
       "      <td>0.056952</td>\n",
       "      <td>0.056386</td>\n",
       "      <td>0.040065</td>\n",
       "      <td>0.049699</td>\n",
       "      <td>0.032031</td>\n",
       "      <td>0.022732</td>\n",
       "      <td>0.046738</td>\n",
       "      <td>0</td>\n",
       "      <td>1</td>\n",
       "      <td>1</td>\n",
       "    </tr>\n",
       "    <tr>\n",
       "      <th>1</th>\n",
       "      <td>5</td>\n",
       "      <td>0.190060</td>\n",
       "      <td>0.350000</td>\n",
       "      <td>0.297216</td>\n",
       "      <td>0.234331</td>\n",
       "      <td>0.292740</td>\n",
       "      <td>0.252073</td>\n",
       "      <td>0.000000</td>\n",
       "      <td>0.302926</td>\n",
       "      <td>0.304454</td>\n",
       "      <td>0.288876</td>\n",
       "      <td>0</td>\n",
       "      <td>1</td>\n",
       "      <td>1</td>\n",
       "    </tr>\n",
       "    <tr>\n",
       "      <th>2</th>\n",
       "      <td>5</td>\n",
       "      <td>0.190060</td>\n",
       "      <td>0.268717</td>\n",
       "      <td>0.312500</td>\n",
       "      <td>0.345161</td>\n",
       "      <td>0.292740</td>\n",
       "      <td>0.315652</td>\n",
       "      <td>0.258993</td>\n",
       "      <td>0.302926</td>\n",
       "      <td>0.324324</td>\n",
       "      <td>0.288876</td>\n",
       "      <td>0</td>\n",
       "      <td>1</td>\n",
       "      <td>0</td>\n",
       "    </tr>\n",
       "    <tr>\n",
       "      <th>3</th>\n",
       "      <td>5</td>\n",
       "      <td>0.190060</td>\n",
       "      <td>0.267081</td>\n",
       "      <td>0.170758</td>\n",
       "      <td>0.345161</td>\n",
       "      <td>0.292740</td>\n",
       "      <td>0.315652</td>\n",
       "      <td>0.316640</td>\n",
       "      <td>0.302926</td>\n",
       "      <td>0.304454</td>\n",
       "      <td>0.288876</td>\n",
       "      <td>0</td>\n",
       "      <td>1</td>\n",
       "      <td>1</td>\n",
       "    </tr>\n",
       "    <tr>\n",
       "      <th>4</th>\n",
       "      <td>6</td>\n",
       "      <td>0.220606</td>\n",
       "      <td>0.421769</td>\n",
       "      <td>0.312500</td>\n",
       "      <td>0.909091</td>\n",
       "      <td>0.292740</td>\n",
       "      <td>0.315652</td>\n",
       "      <td>0.316640</td>\n",
       "      <td>0.302926</td>\n",
       "      <td>0.304454</td>\n",
       "      <td>0.288876</td>\n",
       "      <td>1</td>\n",
       "      <td>1</td>\n",
       "      <td>0</td>\n",
       "    </tr>\n",
       "  </tbody>\n",
       "</table>\n",
       "</div>"
      ],
      "text/plain": [
       "   BUS__CODE     SCORE  A_GrossSales  A_ExtaxPurch  A_Resales  A_FoodCosts  \\\n",
       "0          1  0.190060      0.061679      0.066138   0.056952     0.056386   \n",
       "1          5  0.190060      0.350000      0.297216   0.234331     0.292740   \n",
       "2          5  0.190060      0.268717      0.312500   0.345161     0.292740   \n",
       "3          5  0.190060      0.267081      0.170758   0.345161     0.292740   \n",
       "4          6  0.220606      0.421769      0.312500   0.909091     0.292740   \n",
       "\n",
       "   A_LaborCosts     A_IOC  A_BadDebts    A_TOPP  A_SalesFinal  OwnCode  \\\n",
       "0      0.040065  0.049699    0.032031  0.022732      0.046738        0   \n",
       "1      0.252073  0.000000    0.302926  0.304454      0.288876        0   \n",
       "2      0.315652  0.258993    0.302926  0.324324      0.288876        0   \n",
       "3      0.315652  0.316640    0.302926  0.304454      0.288876        0   \n",
       "4      0.315652  0.316640    0.302926  0.304454      0.288876        1   \n",
       "\n",
       "   Status  Y_AuditResult  \n",
       "0       1              1  \n",
       "1       1              1  \n",
       "2       1              0  \n",
       "3       1              1  \n",
       "4       1              0  "
      ]
     },
     "execution_count": 79,
     "metadata": {},
     "output_type": "execute_result"
    }
   ],
   "source": [
    "d1.head(5)"
   ]
  },
  {
   "cell_type": "code",
   "execution_count": 80,
   "metadata": {},
   "outputs": [],
   "source": [
    "from sklearn.linear_model import LogisticRegression\n",
    "from sklearn.model_selection import train_test_split\n",
    "import numpy\n",
    "\n",
    "# Separate the Train and Test sets by 4:1\n",
    "X = d1.iloc[:,0:-1]\n",
    "Y = d1.loc[:,'Y_AuditResult']\n",
    "x_train,x_test,y_train,y_test=train_test_split(X,Y,test_size=0.2,random_state=0)"
   ]
  },
  {
   "cell_type": "code",
   "execution_count": 81,
   "metadata": {},
   "outputs": [],
   "source": [
    "# Fit the Logistic Regression using train set.\n",
    "clf = LogisticRegression(random_state=0, penalty = 'l1',solver='liblinear').fit(x_train, y_train)\n",
    "\n",
    "# Use the model to get the predict values\n",
    "y_pred = clf.predict(x_test)"
   ]
  },
  {
   "cell_type": "code",
   "execution_count": 83,
   "metadata": {},
   "outputs": [
    {
     "data": {
      "text/plain": [
       "array([[ 131,  414],\n",
       "       [  46, 2232]])"
      ]
     },
     "execution_count": 83,
     "metadata": {},
     "output_type": "execute_result"
    }
   ],
   "source": [
    "# print the confusion matrix\n",
    "from sklearn import metrics\n",
    "cnf_matrix = metrics.confusion_matrix(y_test, y_pred)\n",
    "cnf_matrix"
   ]
  },
  {
   "cell_type": "code",
   "execution_count": 85,
   "metadata": {},
   "outputs": [
    {
     "data": {
      "text/plain": [
       "Text(0.5, 15.0, 'Predicted label')"
      ]
     },
     "execution_count": 85,
     "metadata": {},
     "output_type": "execute_result"
    },
    {
     "data": {
      "image/png": "[encoded data removed]",
      "text/plain": [
       "<Figure size 432x288 with 2 Axes>"
      ]
     },
     "metadata": {
      "needs_background": "light"
     },
     "output_type": "display_data"
    }
   ],
   "source": [
    "sns.heatmap(pd.DataFrame(cnf_matrix), annot=True, cmap=\"YlGnBu\" ,fmt='g')\n",
    "plt.tight_layout()\n",
    "plt.title('Confusion matrix', y=1.1)\n",
    "plt.ylabel('Actual label')\n",
    "plt.xlabel('Predicted label')"
   ]
  },
  {
   "cell_type": "code",
   "execution_count": 95,
   "metadata": {},
   "outputs": [
    {
     "name": "stdout",
     "output_type": "stream",
     "text": [
      "Accuracy: 0.837\n",
      "Precision: 0.844\n",
      "Recall: 0.98\n"
     ]
    }
   ],
   "source": [
    "print(\"Accuracy:\",round(metrics.accuracy_score(y_test, y_pred),3))\n",
    "print(\"Precision:\",round(metrics.precision_score(y_test, y_pred),3))\n",
    "print(\"Recall:\",round(metrics.recall_score(y_test, y_pred),3))"
   ]
  },
  {
   "cell_type": "code",
   "execution_count": 87,
   "metadata": {},
   "outputs": [
    {
     "data": {
      "text/plain": [
       "array([0.83613818, 0.82462356, 0.83879539, 0.83702391, 0.82816652,\n",
       "       0.83613818, 0.83525244, 0.83170948, 0.83790965, 0.83421986])"
      ]
     },
     "execution_count": 87,
     "metadata": {},
     "output_type": "execute_result"
    }
   ],
   "source": [
    "# Cross Validation\n",
    "from sklearn.model_selection import cross_val_score\n",
    "scores = cross_val_score(clf, x_train, y_train, cv=10)\n",
    "scores"
   ]
  },
  {
   "cell_type": "code",
   "execution_count": 88,
   "metadata": {},
   "outputs": [
    {
     "name": "stdout",
     "output_type": "stream",
     "text": [
      "Accuracy: 0.83 (+/- 0.01)\n"
     ]
    }
   ],
   "source": [
    "print(\"Accuracy: %0.2f (+/- %0.2f)\" % (scores.mean(), scores.std() * 2))"
   ]
  },
  {
   "cell_type": "code",
   "execution_count": null,
   "metadata": {},
   "outputs": [],
   "source": []
  },
  {
   "cell_type": "code",
   "execution_count": null,
   "metadata": {},
   "outputs": [],
   "source": []
  }
 ],
 "metadata": {
  "kernelspec": {
   "display_name": "Python 3",
   "language": "python",
   "name": "python3"
  },
  "language_info": {
   "codemirror_mode": {
    "name": "ipython",
    "version": 3
   },
   "file_extension": ".py",
   "mimetype": "text/x-python",
   "name": "python",
   "nbconvert_exporter": "python",
   "pygments_lexer": "ipython3",
   "version": "3.6.8"
  }
 },
 "nbformat": 4,
 "nbformat_minor": 2
}

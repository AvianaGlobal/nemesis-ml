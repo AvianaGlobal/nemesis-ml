{
 "cells": [
  {
   "cell_type": "code",
   "execution_count": 1,
   "metadata": {},
   "outputs": [],
   "source": [
    "#brew install gcc@8\n",
    "#git clone --recursive https://github.com/dmlc/xgboost\n",
    "#cd xgboost\n",
    "#vi config.mk\n",
    "#uncomment and change to \n",
    "#export CC = gcc-8\n",
    "#export CXX = g++-8\n",
    "#change Makefile\n",
    "#export CC = $(if $(shell which clang), clang, gcc-8)\n",
    "#export CXX = $(if $(shell which clang++), clang++, g++-8)\n",
    "#make clean_all && make -j4\n",
    "#cd python-package; python setup.py install"
   ]
  },
  {
   "cell_type": "code",
   "execution_count": 2,
   "metadata": {},
   "outputs": [],
   "source": [
    "import xgboost as xgb\n",
    "import pandas as pd\n",
    "import numpy as np\n",
    "from sklearn.model_selection import train_test_split"
   ]
  },
  {
   "cell_type": "code",
   "execution_count": 3,
   "metadata": {},
   "outputs": [],
   "source": [
    "df = pd.read_csv('../data/processed/kaggle_sample_train.csv')\n",
    "df_type = pd.read_csv('../data/processed/kaggle_sample_type.csv')"
   ]
  },
  {
   "cell_type": "code",
   "execution_count": 4,
   "metadata": {},
   "outputs": [],
   "source": [
    "#Function to get target variable\n",
    "def get_target(df,df_type):\n",
    "    for c in df:\n",
    "        if (column_type(c,df_type) == 'Flag_Continuous' or column_type(c,df_type) == 'Flag_Categorical'):\n",
    "            return(c)"
   ]
  },
  {
   "cell_type": "code",
   "execution_count": 5,
   "metadata": {},
   "outputs": [],
   "source": [
    "# funtion to get column type\n",
    "def column_type(column_name,df_type):\n",
    "    return (df_type.loc[df_type['Variable'] == column_name, 'Type'].iloc[0])"
   ]
  },
  {
   "cell_type": "code",
   "execution_count": 6,
   "metadata": {},
   "outputs": [],
   "source": [
    "target_name = get_target(df,df_type)\n",
    "X = df.drop(columns = target_name)\n",
    "y = df[target_name]"
   ]
  },
  {
   "cell_type": "code",
   "execution_count": 7,
   "metadata": {},
   "outputs": [
    {
     "data": {
      "text/html": [
       "<div>\n",
       "<style scoped>\n",
       "    .dataframe tbody tr th:only-of-type {\n",
       "        vertical-align: middle;\n",
       "    }\n",
       "\n",
       "    .dataframe tbody tr th {\n",
       "        vertical-align: top;\n",
       "    }\n",
       "\n",
       "    .dataframe thead th {\n",
       "        text-align: right;\n",
       "    }\n",
       "</style>\n",
       "<table border=\"1\" class=\"dataframe\">\n",
       "  <thead>\n",
       "    <tr style=\"text-align: right;\">\n",
       "      <th></th>\n",
       "      <th>Vehicle</th>\n",
       "      <th>Calendar_Year</th>\n",
       "      <th>Model_Year</th>\n",
       "      <th>Blind_Make</th>\n",
       "      <th>Cat1</th>\n",
       "      <th>Cat2</th>\n",
       "      <th>Cat3</th>\n",
       "      <th>Cat6</th>\n",
       "      <th>Cat8</th>\n",
       "      <th>Cat9</th>\n",
       "      <th>...</th>\n",
       "      <th>Cat12</th>\n",
       "      <th>OrdCat</th>\n",
       "      <th>NVCat</th>\n",
       "      <th>NVVar1</th>\n",
       "      <th>NVVar2</th>\n",
       "      <th>NVVar3</th>\n",
       "      <th>Var2_Var4</th>\n",
       "      <th>Var1_Var5</th>\n",
       "      <th>Var3_Var6</th>\n",
       "      <th>Var7_Var8_NVVar4</th>\n",
       "    </tr>\n",
       "  </thead>\n",
       "  <tbody>\n",
       "    <tr>\n",
       "      <th>0</th>\n",
       "      <td>1.155510</td>\n",
       "      <td>1</td>\n",
       "      <td>0</td>\n",
       "      <td>0</td>\n",
       "      <td>9</td>\n",
       "      <td>2</td>\n",
       "      <td>2</td>\n",
       "      <td>2</td>\n",
       "      <td>0</td>\n",
       "      <td>0</td>\n",
       "      <td>...</td>\n",
       "      <td>3</td>\n",
       "      <td>4</td>\n",
       "      <td>0</td>\n",
       "      <td>-0.262917</td>\n",
       "      <td>-0.323505</td>\n",
       "      <td>-0.308787</td>\n",
       "      <td>-1.217772</td>\n",
       "      <td>-1.335219</td>\n",
       "      <td>-0.334649</td>\n",
       "      <td>0.533280</td>\n",
       "    </tr>\n",
       "    <tr>\n",
       "      <th>1</th>\n",
       "      <td>1.155510</td>\n",
       "      <td>1</td>\n",
       "      <td>0</td>\n",
       "      <td>0</td>\n",
       "      <td>8</td>\n",
       "      <td>2</td>\n",
       "      <td>5</td>\n",
       "      <td>1</td>\n",
       "      <td>1</td>\n",
       "      <td>1</td>\n",
       "      <td>...</td>\n",
       "      <td>3</td>\n",
       "      <td>5</td>\n",
       "      <td>0</td>\n",
       "      <td>-0.262917</td>\n",
       "      <td>-0.323505</td>\n",
       "      <td>-0.308787</td>\n",
       "      <td>-0.605128</td>\n",
       "      <td>-0.759371</td>\n",
       "      <td>-0.997204</td>\n",
       "      <td>-0.303714</td>\n",
       "    </tr>\n",
       "    <tr>\n",
       "      <th>2</th>\n",
       "      <td>-1.132747</td>\n",
       "      <td>1</td>\n",
       "      <td>0</td>\n",
       "      <td>1</td>\n",
       "      <td>8</td>\n",
       "      <td>2</td>\n",
       "      <td>5</td>\n",
       "      <td>2</td>\n",
       "      <td>1</td>\n",
       "      <td>1</td>\n",
       "      <td>...</td>\n",
       "      <td>3</td>\n",
       "      <td>2</td>\n",
       "      <td>0</td>\n",
       "      <td>-0.262917</td>\n",
       "      <td>-0.323505</td>\n",
       "      <td>-0.308787</td>\n",
       "      <td>2.531610</td>\n",
       "      <td>1.467012</td>\n",
       "      <td>1.936348</td>\n",
       "      <td>-1.604703</td>\n",
       "    </tr>\n",
       "    <tr>\n",
       "      <th>3</th>\n",
       "      <td>-1.132747</td>\n",
       "      <td>0</td>\n",
       "      <td>0</td>\n",
       "      <td>1</td>\n",
       "      <td>8</td>\n",
       "      <td>2</td>\n",
       "      <td>5</td>\n",
       "      <td>2</td>\n",
       "      <td>1</td>\n",
       "      <td>1</td>\n",
       "      <td>...</td>\n",
       "      <td>5</td>\n",
       "      <td>2</td>\n",
       "      <td>0</td>\n",
       "      <td>-0.262917</td>\n",
       "      <td>-0.323505</td>\n",
       "      <td>-0.308787</td>\n",
       "      <td>2.531610</td>\n",
       "      <td>1.467012</td>\n",
       "      <td>1.936348</td>\n",
       "      <td>-1.604703</td>\n",
       "    </tr>\n",
       "    <tr>\n",
       "      <th>4</th>\n",
       "      <td>1.155510</td>\n",
       "      <td>1</td>\n",
       "      <td>0</td>\n",
       "      <td>0</td>\n",
       "      <td>2</td>\n",
       "      <td>2</td>\n",
       "      <td>4</td>\n",
       "      <td>4</td>\n",
       "      <td>1</td>\n",
       "      <td>1</td>\n",
       "      <td>...</td>\n",
       "      <td>5</td>\n",
       "      <td>5</td>\n",
       "      <td>0</td>\n",
       "      <td>-0.262917</td>\n",
       "      <td>-0.323505</td>\n",
       "      <td>-0.308787</td>\n",
       "      <td>-2.503707</td>\n",
       "      <td>-0.702542</td>\n",
       "      <td>-2.434812</td>\n",
       "      <td>3.104985</td>\n",
       "    </tr>\n",
       "  </tbody>\n",
       "</table>\n",
       "<p>5 rows × 22 columns</p>\n",
       "</div>"
      ],
      "text/plain": [
       "    Vehicle  Calendar_Year  Model_Year  Blind_Make  Cat1  Cat2  Cat3  Cat6  \\\n",
       "0  1.155510              1           0           0     9     2     2     2   \n",
       "1  1.155510              1           0           0     8     2     5     1   \n",
       "2 -1.132747              1           0           1     8     2     5     2   \n",
       "3 -1.132747              0           0           1     8     2     5     2   \n",
       "4  1.155510              1           0           0     2     2     4     4   \n",
       "\n",
       "   Cat8  Cat9  ...  Cat12  OrdCat  NVCat    NVVar1    NVVar2    NVVar3  \\\n",
       "0     0     0  ...      3       4      0 -0.262917 -0.323505 -0.308787   \n",
       "1     1     1  ...      3       5      0 -0.262917 -0.323505 -0.308787   \n",
       "2     1     1  ...      3       2      0 -0.262917 -0.323505 -0.308787   \n",
       "3     1     1  ...      5       2      0 -0.262917 -0.323505 -0.308787   \n",
       "4     1     1  ...      5       5      0 -0.262917 -0.323505 -0.308787   \n",
       "\n",
       "   Var2_Var4  Var1_Var5  Var3_Var6  Var7_Var8_NVVar4  \n",
       "0  -1.217772  -1.335219  -0.334649          0.533280  \n",
       "1  -0.605128  -0.759371  -0.997204         -0.303714  \n",
       "2   2.531610   1.467012   1.936348         -1.604703  \n",
       "3   2.531610   1.467012   1.936348         -1.604703  \n",
       "4  -2.503707  -0.702542  -2.434812          3.104985  \n",
       "\n",
       "[5 rows x 22 columns]"
      ]
     },
     "execution_count": 7,
     "metadata": {},
     "output_type": "execute_result"
    }
   ],
   "source": [
    "X.head()"
   ]
  },
  {
   "cell_type": "code",
   "execution_count": 8,
   "metadata": {},
   "outputs": [
    {
     "data": {
      "text/plain": [
       "0    0.0\n",
       "1    0.0\n",
       "2    0.0\n",
       "3    0.0\n",
       "4    0.0\n",
       "Name: Claim_Amount, dtype: float64"
      ]
     },
     "execution_count": 8,
     "metadata": {},
     "output_type": "execute_result"
    }
   ],
   "source": [
    "y.head()"
   ]
  },
  {
   "cell_type": "code",
   "execution_count": 9,
   "metadata": {},
   "outputs": [],
   "source": [
    "X_train, X_test, y_train, y_test = train_test_split(X, y, test_size=0.2,random_state=1)"
   ]
  },
  {
   "cell_type": "code",
   "execution_count": 10,
   "metadata": {},
   "outputs": [],
   "source": [
    "dtrain_X = xgb.DMatrix(X_train)\n",
    "dtest_X = xgb.DMatrix(X_test)"
   ]
  },
  {
   "cell_type": "code",
   "execution_count": 11,
   "metadata": {},
   "outputs": [
    {
     "data": {
      "text/plain": [
       "<xgboost.core.DMatrix at 0x1206a0748>"
      ]
     },
     "execution_count": 11,
     "metadata": {},
     "output_type": "execute_result"
    }
   ],
   "source": [
    "dtrain_X"
   ]
  },
  {
   "cell_type": "code",
   "execution_count": null,
   "metadata": {},
   "outputs": [],
   "source": [
    "# specify parameters via map\n",
    "param = {'max_depth':2, 'eta':1, 'silent':1, 'objective':'binary:logistic' }\n",
    "num_round = 2\n",
    "bst = xgb.train(param, dtrain, num_round)\n",
    "# make prediction\n",
    "preds = bst.predict(dtest)"
   ]
  }
 ],
 "metadata": {
  "kernelspec": {
   "display_name": "Python 3",
   "language": "python",
   "name": "python3"
  },
  "language_info": {
   "codemirror_mode": {
    "name": "ipython",
    "version": 3
   },
   "file_extension": ".py",
   "mimetype": "text/x-python",
   "name": "python",
   "nbconvert_exporter": "python",
   "pygments_lexer": "ipython3",
   "version": "3.7.3"
  }
 },
 "nbformat": 4,
 "nbformat_minor": 2
}

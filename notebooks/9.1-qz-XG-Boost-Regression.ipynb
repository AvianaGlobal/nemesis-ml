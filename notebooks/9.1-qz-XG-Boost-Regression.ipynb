{
 "cells": [
  {
   "cell_type": "code",
   "execution_count": 1,
   "metadata": {},
   "outputs": [],
   "source": [
    "#brew install gcc@8\n",
    "#git clone --recursive https://github.com/dmlc/xgboost\n",
    "#cd xgboost\n",
    "#vi config.mk\n",
    "#uncomment and change to \n",
    "#export CC = gcc-8\n",
    "#export CXX = g++-8\n",
    "#change Makefile\n",
    "#export CC = $(if $(shell which clang), clang, gcc-8)\n",
    "#export CXX = $(if $(shell which clang++), clang++, g++-8)\n",
    "#make clean_all && make -j4\n",
    "#cd python-package; python setup.py install"
   ]
  },
  {
   "cell_type": "code",
   "execution_count": 2,
   "metadata": {},
   "outputs": [],
   "source": [
    "import xgboost as xgb"
   ]
  },
  {
   "cell_type": "code",
   "execution_count": null,
   "metadata": {},
   "outputs": [],
   "source": [
    "dtrain = xgb.DMatrix('demo/data/agaricus.txt.train')\n",
    "dtest = xgb.DMatrix('demo/data/agaricus.txt.test')"
   ]
  }
 ],
 "metadata": {
  "kernelspec": {
   "display_name": "Python 3",
   "language": "python",
   "name": "python3"
  },
  "language_info": {
   "codemirror_mode": {
    "name": "ipython",
    "version": 3
   },
   "file_extension": ".py",
   "mimetype": "text/x-python",
   "name": "python",
   "nbconvert_exporter": "python",
   "pygments_lexer": "ipython3",
   "version": "3.7.3"
  }
 },
 "nbformat": 4,
 "nbformat_minor": 2
}

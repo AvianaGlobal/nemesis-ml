{
 "cells": [
  {
   "cell_type": "code",
   "execution_count": 2,
   "metadata": {},
   "outputs": [],
   "source": [
    "import xgboost as xgb\n",
    "import pandas as pd\n",
    "import numpy as np"
   ]
  },
  {
   "cell_type": "code",
   "execution_count": 3,
   "metadata": {},
   "outputs": [],
   "source": [
    "discrete = pd.read_csv('../data/processed/USC_Discrete_Target_Dataset.csv')"
   ]
  },
  {
   "cell_type": "code",
   "execution_count": 20,
   "metadata": {},
   "outputs": [
    {
     "data": {
      "text/plain": [
       "(14112, 14)"
      ]
     },
     "execution_count": 20,
     "metadata": {},
     "output_type": "execute_result"
    }
   ],
   "source": [
    "discrete.shape"
   ]
  },
  {
   "cell_type": "code",
   "execution_count": 5,
   "metadata": {},
   "outputs": [],
   "source": [
    "column_type = pd.read_csv('../data/processed/USC_Discret_column_type.csv')"
   ]
  },
  {
   "cell_type": "code",
   "execution_count": 6,
   "metadata": {},
   "outputs": [],
   "source": [
    "#function to get number of missing values in a column\n",
    "def get_na_num(column): #input the whole column\n",
    "    if column.dtype == np.object:\n",
    "        return column.isnull().sum() + column[column == ''].count() + column[column == '?'].count()\n",
    "    else:\n",
    "        return column.isnull().sum()"
   ]
  },
  {
   "cell_type": "code",
   "execution_count": 7,
   "metadata": {},
   "outputs": [],
   "source": [
    "#function to get number of valid values in a column\n",
    "def get_valid_num(column): #input the whole column\n",
    "    return len(column) - get_na_num(column)"
   ]
  },
  {
   "cell_type": "code",
   "execution_count": 8,
   "metadata": {},
   "outputs": [],
   "source": [
    "#function to get minimum value in a column\n",
    "def get_min(column): #input the whole column\n",
    "    return min(column)"
   ]
  },
  {
   "cell_type": "code",
   "execution_count": 9,
   "metadata": {},
   "outputs": [],
   "source": [
    "#function to get maximum value in a column\n",
    "def get_max(column): #input the whole column\n",
    "    return max(column)"
   ]
  },
  {
   "cell_type": "code",
   "execution_count": 10,
   "metadata": {},
   "outputs": [],
   "source": [
    "#function to get mean in a column\n",
    "def get_mean(column): #input the whole column\n",
    "    return column.mean()"
   ]
  },
  {
   "cell_type": "code",
   "execution_count": 11,
   "metadata": {},
   "outputs": [],
   "source": [
    "#function to get std in a column\n",
    "def get_std(column): #input the whole column\n",
    "    return column.std()"
   ]
  },
  {
   "cell_type": "code",
   "execution_count": 12,
   "metadata": {},
   "outputs": [],
   "source": [
    "#function to get skewness in a column\n",
    "def get_skew(column): #input the whole column\n",
    "    return column.skew()"
   ]
  },
  {
   "cell_type": "code",
   "execution_count": 13,
   "metadata": {},
   "outputs": [],
   "source": [
    "#function to get number of distict values in a column\n",
    "def get_distinct_num(column): #input the whole column\n",
    "    return len(column.unique().tolist())"
   ]
  },
  {
   "cell_type": "code",
   "execution_count": 14,
   "metadata": {},
   "outputs": [],
   "source": [
    "#function to get count of each distict value in a column\n",
    "def get_distinct_count(column): #input the whole column\n",
    "    if get_distinct_num(column) > 5:\n",
    "        print('Number of distict values is larger than 5. We stop updating the number of distinct values')\n",
    "    else:\n",
    "        return column.value_counts()"
   ]
  },
  {
   "cell_type": "code",
   "execution_count": 15,
   "metadata": {},
   "outputs": [],
   "source": [
    "#function to get median in a column\n",
    "import statistics\n",
    "def get_median(column):\n",
    "    if get_distinct_num(column) > 5:\n",
    "        print('Number of distict values is larger than 5. We do not calculate median')\n",
    "    else:\n",
    "        return statistics.median(column)"
   ]
  },
  {
   "cell_type": "code",
   "execution_count": 16,
   "metadata": {},
   "outputs": [],
   "source": [
    "#function to get mode and count for the mode in a column\n",
    "def get_mode(column):\n",
    "    return (column.mode()[0],column[column==column.mode()[0]].count())"
   ]
  },
  {
   "cell_type": "code",
   "execution_count": 17,
   "metadata": {},
   "outputs": [],
   "source": [
    "#Function to get target variable\n",
    "def get_target(df,df_type):\n",
    "    for c in df:\n",
    "        if (column_type(c,df_type) == 'Flag_Continuous' or column_type(c,df_type) == 'Flag_Categorical'):\n",
    "            return(c)"
   ]
  },
  {
   "cell_type": "code",
   "execution_count": 18,
   "metadata": {},
   "outputs": [],
   "source": [
    "# funtion to get column type\n",
    "def column_type(column_name,df_type):\n",
    "    return (df_type.loc[df_type['Variable'] == column_name, 'Type'].iloc[0])"
   ]
  },
  {
   "cell_type": "code",
   "execution_count": 32,
   "metadata": {},
   "outputs": [],
   "source": [
    "#function to do basic variable screening and create basic statistical report\n",
    "def Stats_Collection(df,df_type):\n",
    "    for c in df:\n",
    "        #exclude Target \n",
    "        if (column_type(c,df_type) != 'Flag_Continuous' and column_type(c,df_type) != 'Flag_Categorical'):\n",
    "            print('Variable name: ',c)\n",
    "\n",
    "            #Basic variable screening\n",
    "            if get_na_num(df[c])/len(df[c]) > 0.5:\n",
    "                print('More 50% missing values, drop this column\\n')\n",
    "                df = df.drop(columns=c)\n",
    "                df_type = df_type.drop(index=int(df_type[df_type.Variable == c].index[0]))\n",
    "                continue\n",
    "            if (column_type(c,df_type) == 'Delete'):\n",
    "                print('Column type is Delete, drop this column\\n')\n",
    "                df = df.drop(columns=c)\n",
    "                df_type = df_type.drop(index=int(df_type[df_type.Variable == c].index[0]))\n",
    "                continue\n",
    "            if (column_type(c,df_type) == 'Continuous') and (get_min(df[c]) == get_max(df[c])):\n",
    "                print('All same value, drop this column\\n')\n",
    "                df = df.drop(columns=c)\n",
    "                df_type = df_type.drop(index=int(df_type[df_type.Variable == c].index[0]))\n",
    "                continue\n",
    "            if (column_type(c,df_type) == 'Ordinal' or column_type(c,df_type) == 'Nominal') and (get_mode(df[c])[1]/get_valid_num(df[c]) > 0.95):\n",
    "                print('Mode contains more than 95% cases, drop this column\\n')\n",
    "                df = df.drop(columns=c)\n",
    "                df_type = df_type.drop(index=int(df_type[df_type.Variable == c].index[0]))\n",
    "                continue\n",
    "            if (column_type(c,df_type) == 'Nominal') and (get_distinct_num(df[c]) > 100):\n",
    "                print('More than 100 categories, drop this column\\n')\n",
    "                df = df.drop(columns=c)\n",
    "                df_type = df_type.drop(index=int(df_type[df_type.Variable == c].index[0]))\n",
    "                continue\n",
    "\n",
    "            #Basic statistic report\n",
    "            print('Variable type: ', column_type(c,df_type))\n",
    "            print ('Number of missing values: ',get_na_num(df[c]))\n",
    "            print ('Number of valid values: ',get_valid_num(df[c]))\n",
    "            if column_type(c,df_type) == 'Continuous' or column_type(c,df_type) == 'Ordinal':\n",
    "                print('Minimum value: ', get_min(df[c]))\n",
    "                print('Maximum value: ', get_max(df[c]))\n",
    "            if column_type(c,df_type) == 'Continuous':\n",
    "                print('Mean: ',get_mean(df[c]))\n",
    "                print('Standard Deviation: ',get_std(df[c]))\n",
    "                print('Skewness: ',get_skew(df[c]))\n",
    "                print('Number of distinct values: ',get_distinct_num(df[c]))\n",
    "                print('Number of cases for each distinct value: ')\n",
    "                print(get_distinct_count(df[c]))\n",
    "            else:\n",
    "                print('Number of categories: ', get_distinct_num(df[c]))\n",
    "                print('The counts of each category: ')\n",
    "                print(get_distinct_count(df[c]))\n",
    "                print('Mode: ', get_mode(df[c])[0],'Count: ',get_mode(df[c])[1])                \n",
    "        print()\n",
    "    return(df,df_type)"
   ]
  },
  {
   "cell_type": "code",
   "execution_count": 19,
   "metadata": {},
   "outputs": [],
   "source": [
    "from xgboost import XGBClassifier\n",
    "from sklearn.model_selection import train_test_split\n",
    "from sklearn.metrics import accuracy_score"
   ]
  },
  {
   "cell_type": "code",
   "execution_count": 22,
   "metadata": {},
   "outputs": [],
   "source": [
    "# split data into X and Y\n",
    "X = discrete.iloc[:,0:13]\n",
    "Y = discrete.iloc[:,13]"
   ]
  },
  {
   "cell_type": "code",
   "execution_count": 24,
   "metadata": {},
   "outputs": [],
   "source": [
    "# split data into train and test sets\n",
    "seed = 7\n",
    "test_size = 0.33\n",
    "x_train, x_test, y_train, y_test = train_test_split(X, Y, test_size=test_size, random_state=seed)\n"
   ]
  },
  {
   "cell_type": "code",
   "execution_count": 26,
   "metadata": {},
   "outputs": [
    {
     "data": {
      "text/plain": [
       "XGBClassifier(base_score=0.5, booster='gbtree', colsample_bylevel=1,\n",
       "       colsample_bytree=1, gamma=0, learning_rate=0.1, max_delta_step=0,\n",
       "       max_depth=3, min_child_weight=1, missing=None, n_estimators=100,\n",
       "       n_jobs=1, nthread=None, objective='binary:logistic', random_state=0,\n",
       "       reg_alpha=0, reg_lambda=1, scale_pos_weight=1, seed=None,\n",
       "       silent=True, subsample=1)"
      ]
     },
     "execution_count": 26,
     "metadata": {},
     "output_type": "execute_result"
    }
   ],
   "source": [
    "# fit model no training data\n",
    "model = XGBClassifier()\n",
    "model.fit(x_train, y_train)"
   ]
  },
  {
   "cell_type": "code",
   "execution_count": 28,
   "metadata": {},
   "outputs": [],
   "source": [
    "# make predictions for test data\n",
    "y_pred = model.predict(x_test)"
   ]
  },
  {
   "cell_type": "code",
   "execution_count": 31,
   "metadata": {},
   "outputs": [
    {
     "name": "stdout",
     "output_type": "stream",
     "text": [
      "Accuracy: 83.62%\n"
     ]
    }
   ],
   "source": [
    "# evaluate predictions\n",
    "accuracy = accuracy_score(y_test, y_pred)\n",
    "print(\"Accuracy: %.2f%%\" % (accuracy * 100.0))"
   ]
  },
  {
   "cell_type": "code",
   "execution_count": null,
   "metadata": {},
   "outputs": [],
   "source": []
  }
 ],
 "metadata": {
  "kernelspec": {
   "display_name": "Python 3",
   "language": "python",
   "name": "python3"
  },
  "language_info": {
   "codemirror_mode": {
    "name": "ipython",
    "version": 3
   },
   "file_extension": ".py",
   "mimetype": "text/x-python",
   "name": "python",
   "nbconvert_exporter": "python",
   "pygments_lexer": "ipython3",
   "version": "3.7.1"
  }
 },
 "nbformat": 4,
 "nbformat_minor": 2
}

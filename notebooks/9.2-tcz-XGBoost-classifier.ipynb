{
 "cells": [
  {
   "cell_type": "code",
   "execution_count": 15,
   "metadata": {},
   "outputs": [],
   "source": [
    "import xgboost as xgb\n",
    "import pandas as pd\n",
    "import numpy as np\n",
    "from matplotlib import pyplot as plt"
   ]
  },
  {
   "cell_type": "code",
   "execution_count": 16,
   "metadata": {},
   "outputs": [],
   "source": [
    "discrete = pd.read_csv('/Users/tianchiz/Desktop/Aviana project/USC_Discrete_Target_Dataset_New.csv')"
   ]
  },
  {
   "cell_type": "code",
   "execution_count": 18,
   "metadata": {},
   "outputs": [],
   "source": [
    "column_type_df = pd.read_csv('/Users/tianchiz/Desktop/Aviana project/nemesis-ml-master-2/data/processed/USC_Discret_column_type.csv')"
   ]
  },
  {
   "cell_type": "code",
   "execution_count": 29,
   "metadata": {},
   "outputs": [],
   "source": [
    "def XGB_Classifier(dataset, dataset_type, test_size = 0.2):\n",
    "    import xgboost as xgb\n",
    "    import pandas as pd\n",
    "    import numpy as np\n",
    "    from matplotlib import pyplot as plt\n",
    "    from xgboost import XGBClassifier\n",
    "    from sklearn.model_selection import train_test_split\n",
    "    from sklearn.metrics import accuracy_score\n",
    "    from sklearn import metrics\n",
    "    \n",
    "    #Function to get target variable\n",
    "    def get_target(df,df_type):\n",
    "        for c in df:\n",
    "            if (column_type(c,df_type) == 'Flag_Continuous' or column_type(c,df_type) == 'Flag_Categorical'):\n",
    "                return(c)\n",
    "            \n",
    "    # funtion to get column type\n",
    "    def column_type(column_name,df_type):\n",
    "        return (df_type.loc[df_type['Variable'] == column_name, 'Type'].iloc[0])\n",
    "    \n",
    "    print('The current dataset has',dataset.shape[1],'columns and',dataset.shape[0],'rows\\n')\n",
    "    print('Column names are', dataset.columns, '\\n')\n",
    "    print('The first 10 rows of this dataset:')\n",
    "    print(dataset.head(10))\n",
    "    \n",
    "    # split data into X and Y\n",
    "    target_name = get_target(dataset, dataset_type)\n",
    "    X = dataset.drop(columns = target_name)\n",
    "    Y = dataset[target_name]\n",
    "    \n",
    "    # split data into train and test sets\n",
    "    seed = 0\n",
    "    test_size = test_size\n",
    "    x_train, x_test, y_train, y_test = train_test_split(X, Y, test_size = test_size, random_state = seed)\n",
    "    \n",
    "    # fit model no training data\n",
    "    model = XGBClassifier()\n",
    "    model.fit(x_train, y_train)\n",
    "    \n",
    "    # important features\n",
    "    xgb.plot_importance(model)\n",
    "    plt.show()\n",
    "    \n",
    "    # make predictions for test data\n",
    "    y_pred = model.predict(x_test)\n",
    "    \n",
    "    # print the confusion matrix\n",
    "    cnf_matrix = metrics.confusion_matrix(y_test, y_pred)\n",
    "    print('The confusion matrix is:\\n', cnf_matrix, '\\n')\n",
    "    \n",
    "    # evaluate predictions\n",
    "    accuracy = accuracy_score(y_test, y_pred)\n",
    "    print(\"Accuracy: %.2f%%\" % (accuracy * 100.0))\n",
    "    \n",
    "    # save the model to disk\n",
    "    filename = '../../models/XGBClassifier.sav'\n",
    "    pickle.dump(xgb_classifier, open(filename, 'wb'))"
   ]
  },
  {
   "cell_type": "code",
   "execution_count": 30,
   "metadata": {},
   "outputs": [
    {
     "name": "stdout",
     "output_type": "stream",
     "text": [
      "The current dataset has 14 columns and 14112 rows\n",
      "\n",
      "Column names are Index(['BUS__CODE', 'SCORE', 'A_GrossSales', 'A_ExtaxPurch', 'A_Resales',\n",
      "       'A_FoodCosts', 'A_LaborCosts', 'A_IOC', 'A_BadDebts', 'A_TOPP',\n",
      "       'A_SalesFinal', 'OwnCode', 'Status', 'Y_AuditResult'],\n",
      "      dtype='object') \n",
      "\n",
      "The first 10 rows of this dataset:\n",
      "   BUS__CODE     SCORE  A_GrossSales  A_ExtaxPurch  A_Resales  A_FoodCosts  \\\n",
      "0          1  0.159487      0.050649      0.057615   0.052424     0.054121   \n",
      "1          5  0.159487      0.350000      0.297216   0.234368     0.292196   \n",
      "2          5  0.159487      0.269103      0.455882   0.345161     0.292196   \n",
      "3          5  0.159487      0.269350      0.170758   0.345161     0.292196   \n",
      "4          6  0.228013      0.421769      0.455882   0.909091     0.292196   \n",
      "5          5  0.159487      0.050649      0.057615   0.052424     0.054121   \n",
      "6          5  0.215543      0.050649      0.057615   0.052424     0.054121   \n",
      "7          1  0.159487      0.050649      0.057615   0.052424     0.054121   \n",
      "8          1  0.188123      0.050649      0.057615   0.052424     0.054121   \n",
      "9          1  0.188123      0.269103      0.281879   0.222222     0.292196   \n",
      "\n",
      "   A_LaborCosts     A_IOC  A_BadDebts    A_TOPP  A_SalesFinal  OwnCode  \\\n",
      "0      0.037247  0.047505    0.031854  0.021440      0.046638        0   \n",
      "1      0.254486  0.000000    0.302926  0.304764      0.288876        0   \n",
      "2      0.315652  0.258993    0.302926  0.316456      0.288876        0   \n",
      "3      0.315652  0.316640    0.302926  0.304764      0.288876        0   \n",
      "4      0.315652  0.316640    0.302926  0.304764      0.288876        1   \n",
      "5      0.037247  0.047505    0.031854  0.021440      0.046638        0   \n",
      "6      0.037247  0.047505    0.031854  0.021440      0.046638        0   \n",
      "7      0.037247  0.047505    0.031854  0.021440      0.046638        0   \n",
      "8      0.037247  0.047505    0.031854  0.021440      0.046638        0   \n",
      "9      0.315652  0.316640    0.302926  0.304764      0.288876        0   \n",
      "\n",
      "   Status Y_AuditResult  \n",
      "0       1   Not_Success  \n",
      "1       1   Not_Success  \n",
      "2       1       Success  \n",
      "3       1   Not_Success  \n",
      "4       1       Success  \n",
      "5       1   Not_Success  \n",
      "6       1   Not_Success  \n",
      "7       1   Not_Success  \n",
      "8       1   Not_Success  \n",
      "9       1       Success  \n"
     ]
    },
    {
     "data": {
      "image/png": "[encoded data removed]",
      "text/plain": [
       "<Figure size 432x288 with 1 Axes>"
      ]
     },
     "metadata": {
      "needs_background": "light"
     },
     "output_type": "display_data"
    },
    {
     "name": "stdout",
     "output_type": "stream",
     "text": [
      "The confusion matrix is:\n",
      " [[2244   34]\n",
      " [ 407  138]] \n",
      "\n",
      "Accuracy: 84.38%\n"
     ]
    }
   ],
   "source": [
    "XGB_Classifier(discrete, column_type_df)"
   ]
  },
  {
   "cell_type": "code",
   "execution_count": null,
   "metadata": {},
   "outputs": [],
   "source": []
  }
 ],
 "metadata": {
  "kernelspec": {
   "display_name": "Python 3",
   "language": "python",
   "name": "python3"
  },
  "language_info": {
   "codemirror_mode": {
    "name": "ipython",
    "version": 3
   },
   "file_extension": ".py",
   "mimetype": "text/x-python",
   "name": "python",
   "nbconvert_exporter": "python",
   "pygments_lexer": "ipython3",
   "version": "3.7.1"
  }
 },
 "nbformat": 4,
 "nbformat_minor": 2
}
